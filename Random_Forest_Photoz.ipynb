{
 "metadata": {
  "name": "",
  "signature": "sha256:ea3891249d695c1562e3f2a7e0651f0c68c6de98fd260b72829b565c2b78a065"
 },
 "nbformat": 3,
 "nbformat_minor": 0,
 "worksheets": [
  {
   "cells": [
    {
     "cell_type": "code",
     "collapsed": false,
     "input": [
      "%pylab inline"
     ],
     "language": "python",
     "metadata": {},
     "outputs": [
      {
       "output_type": "stream",
       "stream": "stdout",
       "text": [
        "Populating the interactive namespace from numpy and matplotlib\n"
       ]
      }
     ],
     "prompt_number": 1
    },
    {
     "cell_type": "heading",
     "level": 1,
     "metadata": {},
     "source": [
      "Figure 9.14"
     ]
    },
    {
     "cell_type": "markdown",
     "metadata": {},
     "source": [
      "by W. Trick & M. Walther"
     ]
    },
    {
     "cell_type": "code",
     "collapsed": false,
     "input": [],
     "language": "python",
     "metadata": {},
     "outputs": []
    }
   ],
   "metadata": {}
  }
 ]
}